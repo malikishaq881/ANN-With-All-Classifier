{
  "nbformat": 4,
  "nbformat_minor": 0,
  "metadata": {
    "colab": {
      "provenance": [],
      "gpuType": "T4"
    },
    "kernelspec": {
      "name": "python3",
      "display_name": "Python 3"
    },
    "language_info": {
      "name": "python"
    },
    "accelerator": "GPU"
  },
  "cells": [
    {
      "cell_type": "code",
      "execution_count": null,
      "metadata": {
        "id": "3YuZWUXcG4jU"
      },
      "outputs": [],
      "source": [
        "import numpy as np\n",
        "import pandas as pd\n",
        "import matplotlib.pyplot as plt\n",
        "import seaborn as sns\n",
        "import joblib\n",
        "import time\n",
        "from tensorflow.keras.models import Sequential\n",
        "from tensorflow.keras.layers import Dense\n",
        "from keras.datasets import mnist\n",
        "from sklearn.metrics import accuracy_score"
      ]
    },
    {
      "cell_type": "code",
      "source": [
        "from sklearn.datasets import load_digits\n",
        "digits = load_digits()"
      ],
      "metadata": {
        "id": "2E0xR_8Tqq5L"
      },
      "execution_count": null,
      "outputs": []
    },
    {
      "cell_type": "code",
      "source": [
        "#Load a Simple ANN the Amnist dataset to be acceptable for Model\n",
        "from sklearn.model_selection import train_test_split\n",
        "x_train, y_test, y_train, y_test = train_test_split(digits.data, digits.target, test_size =0.2, random_state =22)"
      ],
      "metadata": {
        "id": "rVjDMCAUHNcK"
      },
      "execution_count": null,
      "outputs": []
    },
    {
      "cell_type": "code",
      "source": [
        "print(x_train.shape, x_test.shape, y_train.shape, y_test.shape)"
      ],
      "metadata": {
        "colab": {
          "base_uri": "https://localhost:8080/"
        },
        "id": "HLddKN7mIKqk",
        "outputId": "157769e2-4242-4cf8-b301-fdc0a594768d"
      },
      "execution_count": null,
      "outputs": [
        {
          "output_type": "stream",
          "name": "stdout",
          "text": [
            "(1437, 64) (10000, 784) (1437,) (360,)\n"
          ]
        }
      ]
    },
    {
      "cell_type": "code",
      "source": [
        "#Build a Simple ANN archintecture (Input=1, Hiddpen layer= 2, output layer= 1)\n",
        "cnnmodel = Sequential([\n",
        "    Dense(32, activation = 'relu', input_shape= (64,)),\n",
        "    #Dense(32, activation= 'relu'),\n",
        "    #Dense(32, activation= 'relu'),\n",
        "    Dense(10,activation= 'softmax')\n",
        "  ])"
      ],
      "metadata": {
        "id": "zibBUxwXJmIt"
      },
      "execution_count": null,
      "outputs": []
    },
    {
      "cell_type": "code",
      "source": [
        "#Compile the model\n",
        "cnnmodel.compile(optimizer= 'adam', loss= 'sparse_categorical_crossentropy', metrics=['accuracy'])"
      ],
      "metadata": {
        "id": "eqOHLtxOOCx4"
      },
      "execution_count": null,
      "outputs": []
    },
    {
      "cell_type": "code",
      "source": [
        "#Evalate the Model\n",
        "test_loss, test_acc = cnnmodel.evaluate(x_test, y_test)\n",
        "#joblib.dump(cnnmodel, 'cnn_model.joblib')\n",
        "print(f\"Test accuracy: {test_acc}\")\n",
        "print(\"Total time taken while traning:\", E-S)"
      ],
      "metadata": {
        "id": "lWy9kUHZPBfx"
      },
      "execution_count": null,
      "outputs": []
    },
    {
      "cell_type": "code",
      "source": [
        "# For Niave Bayes\n",
        "from sklearn.naive_bayes import GaussianNB\n",
        "classifier = GaussianNB()\n",
        "classifier.fit(x_train, y_train)\n",
        "\n"
      ],
      "metadata": {
        "id": "U8Z2913Jr5-e"
      },
      "execution_count": null,
      "outputs": []
    },
    {
      "cell_type": "code",
      "source": [
        "#Train the Model\n",
        "S=time.time()\n",
        "cnnmodel.fit(x_train, y_train, epochs=5, batch_size=128, validation_data=(x_test, y_test))\n",
        "E=time.time()"
      ],
      "metadata": {
        "colab": {
          "base_uri": "https://localhost:8080/"
        },
        "id": "ZA1HBa5QOhyk",
        "outputId": "b576e271-0aae-421f-ac42-663f1bcec9f9"
      },
      "execution_count": null,
      "outputs": [
        {
          "output_type": "error",
          "ename": "NameError",
          "evalue": "ignored",
          "traceback": [
            "\u001b[0;31m---------------------------------------------------------------------------\u001b[0m",
            "\u001b[0;31mNameError\u001b[0m                                 Traceback (most recent call last)",
            "\u001b[0;32m<ipython-input-1-44603f7a64a8>\u001b[0m in \u001b[0;36m<cell line: 2>\u001b[0;34m()\u001b[0m\n\u001b[1;32m      1\u001b[0m \u001b[0;31m#Train the Model\u001b[0m\u001b[0;34m\u001b[0m\u001b[0;34m\u001b[0m\u001b[0m\n\u001b[0;32m----> 2\u001b[0;31m \u001b[0mS\u001b[0m\u001b[0;34m=\u001b[0m\u001b[0mtime\u001b[0m\u001b[0;34m.\u001b[0m\u001b[0mtime\u001b[0m\u001b[0;34m(\u001b[0m\u001b[0;34m)\u001b[0m\u001b[0;34m\u001b[0m\u001b[0;34m\u001b[0m\u001b[0m\n\u001b[0m\u001b[1;32m      3\u001b[0m \u001b[0mcnnmodel\u001b[0m\u001b[0;34m.\u001b[0m\u001b[0mfit\u001b[0m\u001b[0;34m(\u001b[0m\u001b[0mx_train\u001b[0m\u001b[0;34m,\u001b[0m \u001b[0my_train\u001b[0m\u001b[0;34m,\u001b[0m \u001b[0mepochs\u001b[0m\u001b[0;34m=\u001b[0m\u001b[0;36m5\u001b[0m\u001b[0;34m,\u001b[0m \u001b[0mbatch_size\u001b[0m\u001b[0;34m=\u001b[0m\u001b[0;36m128\u001b[0m\u001b[0;34m,\u001b[0m \u001b[0mvalidation_data\u001b[0m\u001b[0;34m=\u001b[0m\u001b[0;34m(\u001b[0m\u001b[0mx_test\u001b[0m\u001b[0;34m,\u001b[0m \u001b[0my_test\u001b[0m\u001b[0;34m)\u001b[0m\u001b[0;34m)\u001b[0m\u001b[0;34m\u001b[0m\u001b[0;34m\u001b[0m\u001b[0m\n\u001b[1;32m      4\u001b[0m \u001b[0mE\u001b[0m\u001b[0;34m=\u001b[0m\u001b[0mtime\u001b[0m\u001b[0;34m.\u001b[0m\u001b[0mtime\u001b[0m\u001b[0;34m(\u001b[0m\u001b[0;34m)\u001b[0m\u001b[0;34m\u001b[0m\u001b[0;34m\u001b[0m\u001b[0m\n",
            "\u001b[0;31mNameError\u001b[0m: name 'time' is not defined"
          ]
        }
      ]
    },
    {
      "cell_type": "code",
      "source": [
        "y_pred = classifier.predict(x_test)\n",
        "answer = classifier.predict(x_test[2, :].reshape(1,-1))\n",
        "print(answer,y_test)\n",
        "y_pred_train = classifier.predict(x_train)"
      ],
      "metadata": {
        "id": "fMQ5PcHafivU"
      },
      "execution_count": null,
      "outputs": []
    },
    {
      "cell_type": "code",
      "source": [
        "accuracy_orig = accuracy_score(y_test, y_pred)\n",
        "accuracy_train = accuracy_score(y_train, y_pred_train)"
      ],
      "metadata": {
        "id": "W2CIxUl1f4t2"
      },
      "execution_count": null,
      "outputs": []
    },
    {
      "cell_type": "code",
      "source": [
        "print(\"test accuracy NB: \", accuracy_orig)\n",
        "print(\"train accuracy NB: \", accuracy_train)"
      ],
      "metadata": {
        "id": "rFKFlCmcgwgL"
      },
      "execution_count": null,
      "outputs": []
    },
    {
      "cell_type": "code",
      "source": [
        "#For DT"
      ],
      "metadata": {
        "id": "FWB29iechc3c"
      },
      "execution_count": null,
      "outputs": []
    },
    {
      "cell_type": "code",
      "source": [
        "# Load libraries\n",
        "import pandas as pd\n",
        "from sklearn.tree import DecisionTreeClassifier                                         # Import Decision Tree Classifier\n",
        "from sklearn.model_selection import train_test_split                                    # Import train_test_split function\n",
        "from sklearn import metrics                                                             #Import scikit-learn metrics module for accuracy calculation\n"
      ],
      "metadata": {
        "id": "EONDVEbtiewD"
      },
      "execution_count": null,
      "outputs": []
    },
    {
      "cell_type": "code",
      "source": [
        "# Create Decision Tree classifer object\n",
        "clf = DecisionTreeClassifier()\n",
        "\n",
        "# Train Decision Tree Classifer\n",
        "clf = clf.fit(x_train,y_train)\n",
        "\n",
        "#Predict the response for test dataset\n",
        "y_pred = clf.predict(x_test)\n",
        "accuracy_orig = accuracy_score(y_test, y_pred)\n",
        "accuracy_train = accuracy_score(y_train, y_pred_train)"
      ],
      "metadata": {
        "id": "2xXX5u7hjdSd"
      },
      "execution_count": null,
      "outputs": []
    },
    {
      "cell_type": "code",
      "source": [
        "print(\"test accuracy DT: \", accuracy_orig)\n",
        "print(\"train accuracy DT: \", accuracy_train)"
      ],
      "metadata": {
        "id": "pW74Q9EMjn-8"
      },
      "execution_count": null,
      "outputs": []
    },
    {
      "cell_type": "code",
      "source": [
        "#For Random Forest\n",
        "from sklearn.ensemble import RandomForestClassifier\n",
        "rf = RandomForestClassifier()\n",
        "rf.fit(x_train, y_train)"
      ],
      "metadata": {
        "id": "6HxZs6OZlGjN"
      },
      "execution_count": null,
      "outputs": []
    },
    {
      "cell_type": "code",
      "source": [
        "y_pred = rf.predict(x_test)\n",
        "accuracy_orig = accuracy_score(y_test, y_pred)\n",
        "accuracy_train = accuracy_score(y_train, y_pred_train)"
      ],
      "metadata": {
        "id": "8tdX7GYZmEDa"
      },
      "execution_count": null,
      "outputs": []
    },
    {
      "cell_type": "code",
      "source": [
        "print(\"Test accuracy RF: \", accuracy_orig)\n",
        "print(\"Train accuracy RF: \", accuracy_train)"
      ],
      "metadata": {
        "id": "c_ajJJ_7mX8-"
      },
      "execution_count": null,
      "outputs": []
    },
    {
      "cell_type": "code",
      "source": [],
      "metadata": {
        "id": "LbrAegUnmckU"
      },
      "execution_count": null,
      "outputs": []
    }
  ]
}